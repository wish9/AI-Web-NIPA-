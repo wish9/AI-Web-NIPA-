{
 "cells": [
  {
   "cell_type": "code",
   "execution_count": 15,
   "metadata": {
    "ExecuteTime": {
     "end_time": "2023-08-01T11:11:08.031355200Z",
     "start_time": "2023-08-01T11:11:07.961354400Z"
    }
   },
   "outputs": [
    {
     "name": "stdout",
     "output_type": "stream",
     "text": [
      "<class 'pandas.core.frame.DataFrame'>\n"
     ]
    },
    {
     "data": {
      "text/plain": "      name  age city\n0    Alice   25   뉴욕\n1      Bob   30   파리\n2  Charlie   35   런던\n3    james   30   서울\n4    Alice   25   뉴욕",
      "text/html": "<div>\n<style scoped>\n    .dataframe tbody tr th:only-of-type {\n        vertical-align: middle;\n    }\n\n    .dataframe tbody tr th {\n        vertical-align: top;\n    }\n\n    .dataframe thead th {\n        text-align: right;\n    }\n</style>\n<table border=\"1\" class=\"dataframe\">\n  <thead>\n    <tr style=\"text-align: right;\">\n      <th></th>\n      <th>name</th>\n      <th>age</th>\n      <th>city</th>\n    </tr>\n  </thead>\n  <tbody>\n    <tr>\n      <th>0</th>\n      <td>Alice</td>\n      <td>25</td>\n      <td>뉴욕</td>\n    </tr>\n    <tr>\n      <th>1</th>\n      <td>Bob</td>\n      <td>30</td>\n      <td>파리</td>\n    </tr>\n    <tr>\n      <th>2</th>\n      <td>Charlie</td>\n      <td>35</td>\n      <td>런던</td>\n    </tr>\n    <tr>\n      <th>3</th>\n      <td>james</td>\n      <td>30</td>\n      <td>서울</td>\n    </tr>\n    <tr>\n      <th>4</th>\n      <td>Alice</td>\n      <td>25</td>\n      <td>뉴욕</td>\n    </tr>\n  </tbody>\n</table>\n</div>"
     },
     "execution_count": 15,
     "metadata": {},
     "output_type": "execute_result"
    }
   ],
   "source": [
    "# Lesson: 파이썬 Pandas 초급 튜토리얼\n",
    "\n",
    "# Pandas 가져오기\n",
    "import pandas as pd\n",
    "\n",
    "# DataFrame 생성하기\n",
    "data = {'name': ['Alice', 'Bob', 'Charlie', 'james', 'Alice', 'Bob', 'Charlie', 'james'],\n",
    "        'age': [25, 30, 35, 30, 25, 30, 35, 30],\n",
    "        'city': ['뉴욕', '파리', '런던', '서울', '뉴욕', '파리', '런던', '서울']}\n",
    "df = pd.DataFrame(data)\n",
    "print(type(df))\n",
    "\n",
    "df.head()"
   ]
  },
  {
   "cell_type": "code",
   "execution_count": 16,
   "metadata": {
    "ExecuteTime": {
     "end_time": "2023-08-01T11:11:08.032355900Z",
     "start_time": "2023-08-01T11:11:07.986353900Z"
    }
   },
   "outputs": [
    {
     "name": "stdout",
     "output_type": "stream",
     "text": [
      "\n",
      "데이터 접근하기:\n",
      "이름 열:\n"
     ]
    }
   ],
   "source": [
    "# 데이터 접근하기\n",
    "print(\"\\n데이터 접근하기:\")\n",
    "print(\"이름 열:\")\n",
    "name_city = df[['name', 'city']]"
   ]
  },
  {
   "cell_type": "code",
   "execution_count": 17,
   "metadata": {
    "ExecuteTime": {
     "end_time": "2023-08-01T11:11:08.032355900Z",
     "start_time": "2023-08-01T11:11:08.001352400Z"
    }
   },
   "outputs": [
    {
     "data": {
      "text/plain": "      name city\n0    Alice   뉴욕\n1      Bob   파리\n2  Charlie   런던\n3    james   서울\n4    Alice   뉴욕\n5      Bob   파리\n6  Charlie   런던\n7    james   서울",
      "text/html": "<div>\n<style scoped>\n    .dataframe tbody tr th:only-of-type {\n        vertical-align: middle;\n    }\n\n    .dataframe tbody tr th {\n        vertical-align: top;\n    }\n\n    .dataframe thead th {\n        text-align: right;\n    }\n</style>\n<table border=\"1\" class=\"dataframe\">\n  <thead>\n    <tr style=\"text-align: right;\">\n      <th></th>\n      <th>name</th>\n      <th>city</th>\n    </tr>\n  </thead>\n  <tbody>\n    <tr>\n      <th>0</th>\n      <td>Alice</td>\n      <td>뉴욕</td>\n    </tr>\n    <tr>\n      <th>1</th>\n      <td>Bob</td>\n      <td>파리</td>\n    </tr>\n    <tr>\n      <th>2</th>\n      <td>Charlie</td>\n      <td>런던</td>\n    </tr>\n    <tr>\n      <th>3</th>\n      <td>james</td>\n      <td>서울</td>\n    </tr>\n    <tr>\n      <th>4</th>\n      <td>Alice</td>\n      <td>뉴욕</td>\n    </tr>\n    <tr>\n      <th>5</th>\n      <td>Bob</td>\n      <td>파리</td>\n    </tr>\n    <tr>\n      <th>6</th>\n      <td>Charlie</td>\n      <td>런던</td>\n    </tr>\n    <tr>\n      <th>7</th>\n      <td>james</td>\n      <td>서울</td>\n    </tr>\n  </tbody>\n</table>\n</div>"
     },
     "execution_count": 17,
     "metadata": {},
     "output_type": "execute_result"
    }
   ],
   "source": [
    "name_city"
   ]
  },
  {
   "cell_type": "code",
   "execution_count": 18,
   "metadata": {
    "ExecuteTime": {
     "end_time": "2023-08-01T11:11:08.033358100Z",
     "start_time": "2023-08-01T11:11:08.016351700Z"
    }
   },
   "outputs": [
    {
     "name": "stdout",
     "output_type": "stream",
     "text": [
      "첫 번째 행:\n",
      "      name  age city\n",
      "0    Alice   25   뉴욕\n",
      "1      Bob   30   파리\n",
      "2  Charlie   35   런던\n",
      "특정 셀:\n",
      "Bob\n"
     ]
    }
   ],
   "source": [
    "print(\"첫 번째 행:\")\n",
    "print(df.iloc[0:3])\n",
    "print(\"특정 셀:\")\n",
    "print(df.at[1, 'name'])"
   ]
  },
  {
   "cell_type": "code",
   "execution_count": 19,
   "metadata": {
    "ExecuteTime": {
     "end_time": "2023-08-01T11:11:08.047354Z",
     "start_time": "2023-08-01T11:11:08.031355200Z"
    }
   },
   "outputs": [
    {
     "name": "stdout",
     "output_type": "stream",
     "text": [
      "\n",
      "요약 통계량:\n",
      "평균 나이: 30.0\n",
      "최대 나이: 35\n",
      "최소 나이: 25\n"
     ]
    }
   ],
   "source": [
    "# 요약 통계량\n",
    "print(\"\\n요약 통계량:\")\n",
    "print(\"평균 나이:\", df['age'].mean())\n",
    "print(\"최대 나이:\", df['age'].max())\n",
    "print(\"최소 나이:\", df['age'].min())"
   ]
  },
  {
   "cell_type": "code",
   "execution_count": 20,
   "metadata": {
    "ExecuteTime": {
     "end_time": "2023-08-01T11:11:08.162350400Z",
     "start_time": "2023-08-01T11:11:08.047354Z"
    }
   },
   "outputs": [
    {
     "name": "stdout",
     "output_type": "stream",
     "text": [
      "\n",
      "데이터 정렬:\n",
      "정렬된 DataFrame:\n",
      "      name  age city\n",
      "2  Charlie   35   런던\n",
      "6  Charlie   35   런던\n",
      "1      Bob   30   파리\n",
      "3    james   30   서울\n",
      "5      Bob   30   파리\n",
      "7    james   30   서울\n",
      "0    Alice   25   뉴욕\n",
      "4    Alice   25   뉴욕\n"
     ]
    }
   ],
   "source": [
    "# 데이터 필터링\n",
    "# print(\"\\n데이터 필터링:\")\n",
    "# filtered_df = df[df['age'] > 30]\n",
    "# print(\"필터링된 DataFrame:\")\n",
    "# print(filtered_df)\n",
    "\n",
    "# 데이터 정렬\n",
    "print(\"\\n데이터 정렬:\")\n",
    "sorted_df = df.sort_values(by='age', ascending=False)\n",
    "print(\"정렬된 DataFrame:\")\n",
    "print(sorted_df)"
   ]
  },
  {
   "cell_type": "code",
   "execution_count": 21,
   "metadata": {
    "ExecuteTime": {
     "end_time": "2023-08-01T11:11:08.200388600Z",
     "start_time": "2023-08-01T11:11:08.061353700Z"
    }
   },
   "outputs": [
    {
     "name": "stdout",
     "output_type": "stream",
     "text": [
      "\n",
      "월급 열이 추가된 DataFrame:\n",
      "      name  age city  salary\n",
      "0    Alice   25   뉴욕   50000\n",
      "1      Bob   30   파리   60000\n",
      "2  Charlie   35   런던   70000\n",
      "3    james   30   서울  400000\n",
      "4    Alice   25   뉴욕   50000\n",
      "5      Bob   30   파리   60000\n",
      "6  Charlie   35   런던   70000\n",
      "7    james   30   서울  400000\n",
      "\n",
      "도시 열을 삭제한 DataFrame:\n",
      "      name  age  salary\n",
      "0    Alice   25   50000\n",
      "1      Bob   30   60000\n",
      "2  Charlie   35   70000\n",
      "3    james   30  400000\n",
      "4    Alice   25   50000\n",
      "5      Bob   30   60000\n",
      "6  Charlie   35   70000\n",
      "7    james   30  400000\n"
     ]
    }
   ],
   "source": [
    "# 새로운 열 추가하기\n",
    "df['salary'] = [50000, 60000, 70000, 400000, 50000, 60000, 70000, 400000]\n",
    "print(\"\\n월급 열이 추가된 DataFrame:\")\n",
    "print(df)\n",
    "\n",
    "# 열 삭제하기\n",
    "df = df.drop('city', axis=1)\n",
    "print(\"\\n도시 열을 삭제한 DataFrame:\")\n",
    "print(df)"
   ]
  },
  {
   "cell_type": "code",
   "execution_count": 22,
   "metadata": {
    "ExecuteTime": {
     "end_time": "2023-08-01T11:11:08.237387400Z",
     "start_time": "2023-08-01T11:11:08.076352100Z"
    }
   },
   "outputs": [],
   "source": [
    "df.to_csv('my_data.csv')"
   ]
  },
  {
   "cell_type": "code",
   "execution_count": 23,
   "metadata": {
    "ExecuteTime": {
     "end_time": "2023-08-01T11:11:08.282383700Z",
     "start_time": "2023-08-01T11:11:08.091352400Z"
    }
   },
   "outputs": [
    {
     "name": "stdout",
     "output_type": "stream",
     "text": [
      "\n",
      "CSV 파일로부터 읽은 데이터: \n",
      "\n",
      "   Unnamed: 0     name  age  salary\n",
      "0           0    Alice   25   50000\n",
      "1           1      Bob   30   60000\n",
      "2           2  Charlie   35   70000\n",
      "3           3    james   30  400000\n",
      "4           4    Alice   25   50000\n",
      "5           5      Bob   30   60000\n",
      "6           6  Charlie   35   70000\n",
      "7           7    james   30  400000\n"
     ]
    }
   ],
   "source": [
    "# CSV 파일로부터 읽기\n",
    "csv_data = pd.read_csv('my_data.csv')\n",
    "print(\"\\nCSV 파일로부터 읽은 데이터: \\n\")\n",
    "print(csv_data)"
   ]
  },
  {
   "cell_type": "code",
   "execution_count": 24,
   "metadata": {
    "ExecuteTime": {
     "end_time": "2023-08-01T11:11:08.297356700Z",
     "start_time": "2023-08-01T11:11:08.106353300Z"
    }
   },
   "outputs": [
    {
     "name": "stdout",
     "output_type": "stream",
     "text": [
      "   바꾼 컬럼명     name  age  salary\n",
      "0       0    Alice   25   50000\n",
      "1       1      Bob   30   60000\n",
      "2       2  Charlie   35   70000\n",
      "3       3    james   30  400000\n",
      "4       4    Alice   25   50000\n",
      "5       5      Bob   30   60000\n",
      "6       6  Charlie   35   70000\n",
      "7       7    james   30  400000\n"
     ]
    }
   ],
   "source": [
    "# 컬럼명 바꾸기\n",
    "csv_data = csv_data.rename(columns={\"Unnamed: 0\": \"바꾼 컬럼명\"})\n",
    "print(csv_data)"
   ]
  },
  {
   "cell_type": "code",
   "execution_count": 25,
   "outputs": [
    {
     "name": "stdout",
     "output_type": "stream",
     "text": [
      "      name  age  salary\n",
      "0    Alice   25   50000\n",
      "1      Bob   30   60000\n",
      "2  Charlie   35   70000\n",
      "3    james   30  400000\n",
      "4    Alice   25   50000\n",
      "5      Bob   30   60000\n",
      "6  Charlie   35   70000\n",
      "7    james   30  400000\n"
     ]
    }
   ],
   "source": [
    "# 중복되는 인덱스 컬럼 하나 삭제\n",
    "csv_data.drop(\"바꾼 컬럼명\", axis=1, inplace=True)\n",
    "print(csv_data)"
   ],
   "metadata": {
    "collapsed": false,
    "ExecuteTime": {
     "end_time": "2023-08-01T11:11:08.309354500Z",
     "start_time": "2023-08-01T11:11:08.121358200Z"
    }
   }
  },
  {
   "cell_type": "code",
   "execution_count": 26,
   "outputs": [
    {
     "data": {
      "text/plain": "  name  age  salary\n0  앨리스   25   50000\n1    밥   30   60000\n2   찰리   35   70000\n3  NaN   30  400000\n4  앨리스   25   50000\n5    밥   30   60000\n6   찰리   35   70000\n7  NaN   30  400000",
      "text/html": "<div>\n<style scoped>\n    .dataframe tbody tr th:only-of-type {\n        vertical-align: middle;\n    }\n\n    .dataframe tbody tr th {\n        vertical-align: top;\n    }\n\n    .dataframe thead th {\n        text-align: right;\n    }\n</style>\n<table border=\"1\" class=\"dataframe\">\n  <thead>\n    <tr style=\"text-align: right;\">\n      <th></th>\n      <th>name</th>\n      <th>age</th>\n      <th>salary</th>\n    </tr>\n  </thead>\n  <tbody>\n    <tr>\n      <th>0</th>\n      <td>앨리스</td>\n      <td>25</td>\n      <td>50000</td>\n    </tr>\n    <tr>\n      <th>1</th>\n      <td>밥</td>\n      <td>30</td>\n      <td>60000</td>\n    </tr>\n    <tr>\n      <th>2</th>\n      <td>찰리</td>\n      <td>35</td>\n      <td>70000</td>\n    </tr>\n    <tr>\n      <th>3</th>\n      <td>NaN</td>\n      <td>30</td>\n      <td>400000</td>\n    </tr>\n    <tr>\n      <th>4</th>\n      <td>앨리스</td>\n      <td>25</td>\n      <td>50000</td>\n    </tr>\n    <tr>\n      <th>5</th>\n      <td>밥</td>\n      <td>30</td>\n      <td>60000</td>\n    </tr>\n    <tr>\n      <th>6</th>\n      <td>찰리</td>\n      <td>35</td>\n      <td>70000</td>\n    </tr>\n    <tr>\n      <th>7</th>\n      <td>NaN</td>\n      <td>30</td>\n      <td>400000</td>\n    </tr>\n  </tbody>\n</table>\n</div>"
     },
     "execution_count": 26,
     "metadata": {},
     "output_type": "execute_result"
    }
   ],
   "source": [
    "# 영어로 되어있는 name 한국어로 바꾸기\n",
    "name_mapping = {\n",
    "    'Alice': '앨리스',\n",
    "    'Bob': '밥',\n",
    "    'Charlie': '찰리',\n",
    "    'James': '제임스'\n",
    "}\n",
    "\n",
    "csv_data['name'] = csv_data['name'].map(name_mapping)\n",
    "csv_data"
   ],
   "metadata": {
    "collapsed": false,
    "ExecuteTime": {
     "end_time": "2023-08-01T11:11:08.317389300Z",
     "start_time": "2023-08-01T11:11:08.136352300Z"
    }
   }
  },
  {
   "cell_type": "code",
   "execution_count": 27,
   "outputs": [
    {
     "data": {
      "text/plain": "  name  age   salary\n0  앨리스   25   50,000\n1    밥   30   60,000\n2   찰리   35   70,000\n3  NaN   30  400,000\n4  앨리스   25   50,000\n5    밥   30   60,000\n6   찰리   35   70,000\n7  NaN   30  400,000",
      "text/html": "<div>\n<style scoped>\n    .dataframe tbody tr th:only-of-type {\n        vertical-align: middle;\n    }\n\n    .dataframe tbody tr th {\n        vertical-align: top;\n    }\n\n    .dataframe thead th {\n        text-align: right;\n    }\n</style>\n<table border=\"1\" class=\"dataframe\">\n  <thead>\n    <tr style=\"text-align: right;\">\n      <th></th>\n      <th>name</th>\n      <th>age</th>\n      <th>salary</th>\n    </tr>\n  </thead>\n  <tbody>\n    <tr>\n      <th>0</th>\n      <td>앨리스</td>\n      <td>25</td>\n      <td>50,000</td>\n    </tr>\n    <tr>\n      <th>1</th>\n      <td>밥</td>\n      <td>30</td>\n      <td>60,000</td>\n    </tr>\n    <tr>\n      <th>2</th>\n      <td>찰리</td>\n      <td>35</td>\n      <td>70,000</td>\n    </tr>\n    <tr>\n      <th>3</th>\n      <td>NaN</td>\n      <td>30</td>\n      <td>400,000</td>\n    </tr>\n    <tr>\n      <th>4</th>\n      <td>앨리스</td>\n      <td>25</td>\n      <td>50,000</td>\n    </tr>\n    <tr>\n      <th>5</th>\n      <td>밥</td>\n      <td>30</td>\n      <td>60,000</td>\n    </tr>\n    <tr>\n      <th>6</th>\n      <td>찰리</td>\n      <td>35</td>\n      <td>70,000</td>\n    </tr>\n    <tr>\n      <th>7</th>\n      <td>NaN</td>\n      <td>30</td>\n      <td>400,000</td>\n    </tr>\n  </tbody>\n</table>\n</div>"
     },
     "execution_count": 27,
     "metadata": {},
     "output_type": "execute_result"
    }
   ],
   "source": [
    "csv_data['salary'] = csv_data['salary'].apply(lambda x: \"{:,}\".format(x))\n",
    "csv_data"
   ],
   "metadata": {
    "collapsed": false,
    "ExecuteTime": {
     "end_time": "2023-08-01T11:11:08.317389300Z",
     "start_time": "2023-08-01T11:11:08.150351400Z"
    }
   }
  },
  {
   "cell_type": "code",
   "execution_count": 28,
   "outputs": [],
   "source": [
    "csv_data.to_csv('my_data2.csv')"
   ],
   "metadata": {
    "collapsed": false,
    "ExecuteTime": {
     "end_time": "2023-08-01T11:11:08.317389300Z",
     "start_time": "2023-08-01T11:11:08.168359300Z"
    }
   }
  }
 ],
 "metadata": {
  "kernelspec": {
   "display_name": "Python 3",
   "language": "python",
   "name": "python3"
  },
  "language_info": {
   "codemirror_mode": {
    "name": "ipython",
    "version": 3
   },
   "file_extension": ".py",
   "mimetype": "text/x-python",
   "name": "python",
   "nbconvert_exporter": "python",
   "pygments_lexer": "ipython3",
   "version": "3.11.3"
  },
  "orig_nbformat": 4
 },
 "nbformat": 4,
 "nbformat_minor": 2
}
